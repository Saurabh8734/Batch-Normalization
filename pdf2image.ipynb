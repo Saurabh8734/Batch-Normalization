{
  "nbformat": 4,
  "nbformat_minor": 0,
  "metadata": {
    "colab": {
      "provenance": [],
      "authorship_tag": "ABX9TyPE39FDbwu1xcoRM40e+vy0",
      "include_colab_link": true
    },
    "kernelspec": {
      "name": "python3",
      "display_name": "Python 3"
    },
    "language_info": {
      "name": "python"
    }
  },
  "cells": [
    {
      "cell_type": "markdown",
      "metadata": {
        "id": "view-in-github",
        "colab_type": "text"
      },
      "source": [
        "<a href=\"https://colab.research.google.com/github/Saurabh8734/Batch-Normalization/blob/main/pdf2image.ipynb\" target=\"_parent\"><img src=\"https://colab.research.google.com/assets/colab-badge.svg\" alt=\"Open In Colab\"/></a>"
      ]
    },
    {
      "cell_type": "code",
      "execution_count": 14,
      "metadata": {
        "colab": {
          "base_uri": "https://localhost:8080/"
        },
        "id": "cppO_wwTjAUg",
        "outputId": "60cd7fd5-d147-4913-a745-573d3bd8f8ec"
      },
      "outputs": [
        {
          "output_type": "stream",
          "name": "stdout",
          "text": [
            "Saved: /content/output_imagesbi/s162.png\n",
            "Saved: /content/output_imagesbi/s163.png\n",
            "Saved: /content/output_imagesbi/s164.png\n",
            "Saved: /content/output_imagesbi/s165.png\n",
            "Saved: /content/output_imagesbi/s166.png\n",
            "Saved: /content/output_imagesbi/s167.png\n",
            "Saved: /content/output_imagesbi/s168.png\n",
            "Saved: /content/output_imagesbi/s169.png\n",
            "Saved: /content/output_imagesbi/s170.png\n",
            "Saved: /content/output_imagesbi/s171.png\n",
            "Saved: /content/output_imagesbi/s172.png\n",
            "Saved: /content/output_imagesbi/s173.png\n",
            "Saved: /content/output_imagesbi/s174.png\n",
            "Saved: /content/output_imagesbi/s175.png\n",
            "Saved: /content/output_imagesbi/s176.png\n",
            "PDF pages successfully converted to PNG!\n"
          ]
        }
      ],
      "source": [
        "# Install necessary libraries in Google Colab\n",
        "# !apt-get install -y poppler-utils\n",
        "# !pip install pdf2image\n",
        "\n",
        "from pdf2image import convert_from_path\n",
        "import os\n",
        "from google.colab import files\n",
        "\n",
        "# Path to the input PDF file\n",
        "pdf_path = '/content/Bank of India.pdf'  # You can upload the file using the Colab interface\n",
        "output_folder = '/content/output_imagesbi'\n",
        "\n",
        "# Ensure the output folder exists\n",
        "if not os.path.exists(output_folder):\n",
        "    os.makedirs(output_folder)\n",
        "\n",
        "# Convert PDF to images\n",
        "try:\n",
        "    pages = convert_from_path(pdf_path, dpi=300)\n",
        "\n",
        "    # Save each page as a PNG\n",
        "    for page_number, page in enumerate(pages, start=1):\n",
        "        image_path = os.path.join(output_folder, f\"s{161 + page_number}.png\")\n",
        "        page.save(image_path, \"PNG\")\n",
        "        print(f\"Saved: {image_path}\")\n",
        "\n",
        "    print(\"PDF pages successfully converted to PNG!\")\n",
        "except Exception as e:\n",
        "    print(f\"An error occurred: {e}\")\n"
      ]
    },
    {
      "cell_type": "code",
      "source": [
        "!pip install pdf2image"
      ],
      "metadata": {
        "colab": {
          "base_uri": "https://localhost:8080/"
        },
        "id": "587NXFvJjPg4",
        "outputId": "cc1ccea2-e8df-4695-a5dd-28a2f3d5a1b1"
      },
      "execution_count": 1,
      "outputs": [
        {
          "output_type": "stream",
          "name": "stdout",
          "text": [
            "Collecting pdf2image\n",
            "  Downloading pdf2image-1.17.0-py3-none-any.whl.metadata (6.2 kB)\n",
            "Requirement already satisfied: pillow in /usr/local/lib/python3.10/dist-packages (from pdf2image) (11.0.0)\n",
            "Downloading pdf2image-1.17.0-py3-none-any.whl (11 kB)\n",
            "Installing collected packages: pdf2image\n",
            "Successfully installed pdf2image-1.17.0\n"
          ]
        }
      ]
    },
    {
      "cell_type": "code",
      "source": [],
      "metadata": {
        "id": "C0F5P1gLjUWe"
      },
      "execution_count": null,
      "outputs": []
    }
  ]
}